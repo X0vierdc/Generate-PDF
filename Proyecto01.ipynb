{
 "cells": [
  {
   "cell_type": "markdown",
   "id": "2bb5e698",
   "metadata": {},
   "source": [
    "# Proyecto 01\n",
    "\n",
    "## Mostrando información al usuario"
   ]
  },
  {
   "cell_type": "code",
   "execution_count": null,
   "id": "9e769cea",
   "metadata": {},
   "outputs": [
    {
     "name": "stdout",
     "output_type": "stream",
     "text": [
      "Semana de Python en la práctica\n",
      "Amanda la mejor novia\n"
     ]
    }
   ],
   "source": [
    "print(\"Semana de Python en la práctica\")\n",
    "print(\"Amanda la mejor novia\")\n"
   ]
  },
  {
   "cell_type": "markdown",
   "id": "919d44b9",
   "metadata": {},
   "source": [
    "## Recibir datos del usuario\n",
    "\n",
    "Comando input()"
   ]
  },
  {
   "cell_type": "code",
   "execution_count": 21,
   "id": "4fb004a6",
   "metadata": {},
   "outputs": [
    {
     "data": {
      "text/plain": [
       "''"
      ]
     },
     "execution_count": 21,
     "metadata": {},
     "output_type": "execute_result"
    }
   ],
   "source": [
    "input(\"Digita tu nombre: \")\n",
    "input(\"Cual es el mejor lenguaje de programación del mundo\")"
   ]
  },
  {
   "cell_type": "markdown",
   "id": "8834a77c",
   "metadata": {},
   "source": [
    "## Almacenando datos en variables"
   ]
  },
  {
   "cell_type": "code",
   "execution_count": 22,
   "id": "def5811d",
   "metadata": {},
   "outputs": [],
   "source": [
    "proyecto = \"Mi primer proyecto con Python\"\n",
    "numero = 10"
   ]
  },
  {
   "cell_type": "code",
   "execution_count": 23,
   "id": "350eb690",
   "metadata": {},
   "outputs": [
    {
     "data": {
      "text/plain": [
       "10"
      ]
     },
     "execution_count": 23,
     "metadata": {},
     "output_type": "execute_result"
    }
   ],
   "source": [
    "numero "
   ]
  },
  {
   "cell_type": "markdown",
   "id": "49ab5bce",
   "metadata": {},
   "source": [
    "## Mezlando todos los conceptos aprendidos"
   ]
  },
  {
   "cell_type": "code",
   "execution_count": 14,
   "id": "887ca8e2",
   "metadata": {},
   "outputs": [],
   "source": [
    "proyecto = input(\"Digita la descripción del proyecto \")\n",
    "horas_estimadas = input(\"Digita la cantidad de horas trabajadas \")\n",
    "valor_hora = input(\"Digita el valor de la hora trabajada \")\n",
    "tiempo_estimado = input(\"Digita el plazo estimado \")"
   ]
  },
  {
   "cell_type": "code",
   "execution_count": 15,
   "id": "a0060726",
   "metadata": {},
   "outputs": [
    {
     "name": "stdout",
     "output_type": "stream",
     "text": [
      "Mi primer proyecto con Python\n",
      "120\n",
      "90\n",
      "2 meses\n"
     ]
    }
   ],
   "source": [
    "print(proyecto)\n",
    "print(horas_estimadas)\n",
    "print(valor_hora)\n",
    "print(tiempo_estimado)"
   ]
  },
  {
   "cell_type": "markdown",
   "id": "9153364c",
   "metadata": {},
   "source": [
    "## Cálculos con Pyhton"
   ]
  },
  {
   "cell_type": "code",
   "execution_count": 9,
   "id": "d8112bfb",
   "metadata": {},
   "outputs": [
    {
     "name": "stdout",
     "output_type": "stream",
     "text": [
      "55\n",
      "1978\n",
      "2500\n",
      "7.5\n"
     ]
    }
   ],
   "source": [
    "print(10 + 45) \n",
    "print(2345 - 367)\n",
    "print(50 * 50)\n",
    "print(15 / 2)"
   ]
  },
  {
   "cell_type": "markdown",
   "id": "9eeecd5c",
   "metadata": {},
   "source": [
    "## Calculando el valor total del proyecto"
   ]
  },
  {
   "cell_type": "code",
   "execution_count": 29,
   "id": "b56af147",
   "metadata": {},
   "outputs": [],
   "source": [
    "valor_total = int(horas_estimadas) * int(valor_hora)"
   ]
  },
  {
   "cell_type": "markdown",
   "id": "e9c40050",
   "metadata": {},
   "source": [
    "## Generando archivo PDF del presupuesto"
   ]
  },
  {
   "cell_type": "code",
   "execution_count": 24,
   "id": "9aed1f84",
   "metadata": {},
   "outputs": [
    {
     "name": "stdout",
     "output_type": "stream",
     "text": [
      "Defaulting to user installation because normal site-packages is not writeable\n",
      "Requirement already satisfied: fpdf in c:\\users\\jrodr\\appdata\\local\\packages\\pythonsoftwarefoundation.python.3.12_qbz5n2kfra8p0\\localcache\\local-packages\\python312\\site-packages (1.7.2)\n"
     ]
    },
    {
     "name": "stderr",
     "output_type": "stream",
     "text": [
      "\n",
      "[notice] A new release of pip is available: 25.0.1 -> 25.1.1\n",
      "[notice] To update, run: C:\\Users\\jrodr\\AppData\\Local\\Microsoft\\WindowsApps\\PythonSoftwareFoundation.Python.3.12_qbz5n2kfra8p0\\python.exe -m pip install --upgrade pip\n"
     ]
    }
   ],
   "source": [
    "! pip3 install fpdf"
   ]
  },
  {
   "cell_type": "code",
   "execution_count": 26,
   "id": "007593d2",
   "metadata": {},
   "outputs": [],
   "source": [
    "from fpdf  import FPDF "
   ]
  },
  {
   "cell_type": "code",
   "execution_count": 34,
   "id": "90375a6d",
   "metadata": {},
   "outputs": [
    {
     "name": "stdout",
     "output_type": "stream",
     "text": [
      "Presupuesto generado con éxito!!!\n"
     ]
    }
   ],
   "source": [
    "pdf = FPDF()\n",
    "\n",
    "pdf.add_page()\n",
    "pdf.set_font(\"Arial\")\n",
    "\n",
    "pdf.image(\"Template.png\", 0, 0)\n",
    "\n",
    "pdf.text(115, 145, proyecto)\n",
    "pdf.text(115, 160, horas_estimadas)\n",
    "pdf.text(115, 175, valor_hora)\n",
    "pdf.text(115, 190, tiempo_estimado)\n",
    "pdf.text(115, 205, str(valor_total))\n",
    "\n",
    "pdf.output(\"presupuesto.pdf\")\n",
    "print(\"Presupuesto generado con éxito!!!\")"
   ]
  }
 ],
 "metadata": {
  "kernelspec": {
   "display_name": "Python 3",
   "language": "python",
   "name": "python3"
  },
  "language_info": {
   "codemirror_mode": {
    "name": "ipython",
    "version": 3
   },
   "file_extension": ".py",
   "mimetype": "text/x-python",
   "name": "python",
   "nbconvert_exporter": "python",
   "pygments_lexer": "ipython3",
   "version": "3.12.10"
  }
 },
 "nbformat": 4,
 "nbformat_minor": 5
}
